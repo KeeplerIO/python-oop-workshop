{
 "cells": [
  {
   "cell_type": "markdown",
   "metadata": {},
   "source": [
    "# Ejercicios guiados\n",
    "\n",
    "Se propone una serie de ejercicios guiados para asentar las bases de lo que se ha visto anteriormente.\n",
    "\n",
    "## Ejercicio 1\n",
    "Para el primer ejercicio queremos continuar implementando funcionalidad en nuestro gato. Por ello, vamos a implementar un método en la clase gato que haga que cualquier gato pueda realizar una acción cualquiera sobre una serie de elementos."
   ]
  },
  {
   "cell_type": "code",
   "execution_count": null,
   "metadata": {},
   "outputs": [],
   "source": [
    "from abc import (\n",
    "    ABC,\n",
    "    abstractmethod,\n",
    ")\n",
    "\n",
    "class GatoGenerico(ABC):\n",
    "    @abstractmethod\n",
    "    def hace(self, accion, cosas):\n",
    "        pass"
   ]
  },
  {
   "cell_type": "markdown",
   "metadata": {},
   "source": [
    "## Ejercicio 2\n",
    "En este ejercicio queremos implementar una función que filtre una lista de objetos persona en función de si es *conectable* y su grado de similaritud."
   ]
  },
  {
   "cell_type": "code",
   "execution_count": null,
   "metadata": {},
   "outputs": [],
   "source": [
    "# Ejercicio 2\n",
    "from random import randint \n",
    "class Persona:\n",
    "    def __init__(self, nombre, tipo, conecta=False, similaritud=0):\n",
    "        self.nombre = nombre\n",
    "        self.tipo = tipo\n",
    "        self.conecta = conecta\n",
    "        self.similaritud = similaritud\n",
    "    \n",
    "    def __repr__(self):\n",
    "        similaritud = ' y con una similaritud de {}'.format(self.similaritud) if self.conecta else ''\n",
    "        return '{} es una persona de tipo {}{}'.format(self.nombre, self.tipo, similaritud)\n",
    "\n",
    "    \n",
    "elementos = [Persona(\n",
    "    p,\n",
    "    i%3,\n",
    "    True if randint(0, 100) < 30 else False,\n",
    "    randint(0, 10)\n",
    ") for i, p in enumerate(('Sara', 'Roberto', 'Laura', 'Carlos', 'Clara', 'Eloy', 'Irene', 'Alfredo', 'Paula'))]\n",
    "display(elementos)"
   ]
  },
  {
   "cell_type": "markdown",
   "metadata": {},
   "source": [
    "## Ejercicio 3\n",
    "Siguiendo con el espíritu del ejercicio anterior, en este ejercicio vamos a implementar una función de ordenación basada en objetos."
   ]
  },
  {
   "cell_type": "code",
   "execution_count": null,
   "metadata": {},
   "outputs": [],
   "source": [
    "# Ejercicio 3\n",
    "from random import randint \n",
    "class Persona:\n",
    "    def __init__(self, nombre, tipo, conecta=False, similaritud=0):\n",
    "        self.nombre = nombre\n",
    "        self.tipo = tipo\n",
    "        self.similaritud = similaritud\n",
    "    \n",
    "    def __repr__(self):\n",
    "        return '{} es una persona de tipo {} y con una similaritud de {}'.format(self.nombre, self.tipo, self.similaritud)\n",
    "\n",
    "    \n",
    "elementos = [Persona(\n",
    "    p,\n",
    "    i%3,\n",
    "    True if randint(0, 100) < 30 else False,\n",
    "    randint(0, 10)\n",
    ") for i, p in enumerate(('Sara', 'Roberto', 'Laura', 'Carlos', 'Clara', 'Eloy', 'Irene', 'Alfredo', 'Paula'))]\n",
    "display(elementos)"
   ]
  },
  {
   "cell_type": "markdown",
   "metadata": {},
   "source": [
    "# Ejercicio 4\n",
    "En este ejercicio vamos a implementar nuestro propio iterador. El patrón de iterador es un patrón de comportamiento fundamental en la implementación de Python. Permite definir una interfaz de comportamiento para interactuar con tipos de dato que definen colecciones de elementos. De esta manera se puede operar sobre un tipo de dato *iterable* sin necesidad de conocer cómo es internamente, potenciando la abstracción de nuestros procesos. En el caso de Python, este patrón de diseño está implementado en el core del lenguaje y es fundamental para el tratamiento de estructuras de datos y la aplicación de muchas de las función vistas en el modulo anterior (como `filter` o `map`).\n",
    "\n",
    "Implementar este patrón de diseño en Python requiere que creemos una clase que implemente, al menos, las funciones `__iter__` y `__next__`. Para controlar el momento en el que dejará de iterar python nos proporciona la excepción `StopIteration`. Cuando nuestra clase lance esta excepción, Python la capturará y detendrá la iteración de manera controlada."
   ]
  },
  {
   "cell_type": "code",
   "execution_count": null,
   "metadata": {},
   "outputs": [],
   "source": [
    "class RangePropio:\n",
    "    def __init__(self, maximo):\n",
    "        pass\n",
    "\n",
    "    def __iter__(self):\n",
    "        pass\n",
    "\n",
    "    def __next__(self):\n",
    "        pass\n"
   ]
  }
 ],
 "metadata": {
  "kernelspec": {
   "display_name": "Python (python-hands-on)",
   "language": "python",
   "name": "python-hands-on"
  },
  "language_info": {
   "codemirror_mode": {
    "name": "ipython",
    "version": 3
   },
   "file_extension": ".py",
   "mimetype": "text/x-python",
   "name": "python",
   "nbconvert_exporter": "python",
   "pygments_lexer": "ipython3",
   "version": "3.8.2"
  }
 },
 "nbformat": 4,
 "nbformat_minor": 4
}
