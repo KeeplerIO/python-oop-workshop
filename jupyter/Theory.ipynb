{
 "cells": [
  {
   "cell_type": "markdown",
   "metadata": {},
   "source": [
    "# Paradigmas de programación\n",
    "El paradigma de programación define la **forma** en que el lenguaje **soluciona los problemas**.\n",
    "\n",
    "Implica una serie de **características intrínsecas** que implementa el lenguaje de programación, y están enfocadas a solucionar ciertos tipos de problemas concretos.\n",
    "\n",
    "## Programación orientada a objetos (OOP)\n",
    "Se basa en la existencia de colecciones de **objetos**, estructuras complejas **con estado**. Se modela por medio de atributos y métodos que modifican esos atributos (el estado). En OOP hay dos conceptos clave que hay que entender antes de poder empezar a trabajar con el paradigma: los objetos y la herencia.\n",
    "\n",
    "### Conceptos clave: Objeto\n",
    "Un objeto es una estructura de datos que hace las veces de tipo de dato. Todos los tipos de datos en Python son objetos, bien sean tipos \"básicos\" (`int`, `float`, `complex`, `bool`, `str`), estructuras de datos (`list`, `dict`) u objetos definidos por el usuario. Más adelante veremos un gráfico con las clases que representan a estos tipos de datos.\n",
    "\n",
    "Un objeto en python se implementa en una **clase** (`class`), que es como se llama en OOP a la implementación concreta de un objeto. Como la clase representa un concepto más complejo y amplio que un tipo básico dispone de un número indeterminado de variables que llamamos atributos. Estos atributos permiten modelar las características (el estado) de la clase.\n",
    "\n",
    "Una instancia es el resultado de instanciar una clase, es decir, el resultado de crear un instancia concreta de nuestra clase genérica.\n",
    "\n",
    "Nota: la convención de nombres utilizada es la de [PEP (Python Enhancement Proposals) 8](https://www.python.org/dev/peps/pep-0008/#naming-conventions)"
   ]
  },
  {
   "cell_type": "code",
   "execution_count": null,
   "metadata": {},
   "outputs": [],
   "source": [
    "# Ejemplo 1\n"
   ]
  },
  {
   "cell_type": "markdown",
   "metadata": {},
   "source": [
    "La segunda herramienta que nos da Python para trabajar con los objetos son los métodos. Son funciones que se implementan dentro de la clase y que solo pueden utilizarse junto con una clase que haya sido instanciada. Esto se debe a que los métodos sirven para generar comportamientos más complejos y modificar el estado interno de la clase, es decir, los atributos de la misma."
   ]
  },
  {
   "cell_type": "code",
   "execution_count": null,
   "metadata": {},
   "outputs": [],
   "source": [
    "# Ejemplo 2\n"
   ]
  },
  {
   "cell_type": "markdown",
   "metadata": {},
   "source": [
    "*Nota*: Existe un tipo particular de método en una clase que son los métodos estáticos. Se definen con el decorador `@staticmethod` y permite invocar ese método sin tener una instancia del objeto."
   ]
  },
  {
   "cell_type": "markdown",
   "metadata": {},
   "source": [
    "Además de los atributos y métodos que defina el usuario, Python genera automáticamente una serie de atributos y funciones internas que utiliza en las funciones del sistema. Son funciones definidas con una nomenclatura especial, que empiezan y acaban por `__`, y estas son las más importantes:\n",
    "* `__init__(self[, ...])`: es la función que hace de constructor, un método interno propio de OOP que define la incialización de los atributos internos en el momento de la instaciación de la clase.\n",
    "* `__repr__(self)`: es la función a la que se llama para obtener la representación en texto\n",
    "del objeto. Si no se implementa devuelve una representación del objeto y su id interno. Además, existe la función `__str__` que se llama en las funciones de `format()` y `print()`, por lo que se recomienda que sea un string más sencillo. Si no se implementa `__str__`, por defecto Python utiliza `__repr__` en todos los casos.\n",
    "* `__getattr__(self, name)`: es la función que se llama cuando se intenta obtener un atributo. Equivaldría conceptualmente al *getter*.\n",
    "* `__setattr__(self, name, value)`: es la función que se llama cuando se intenta modificar un atributo. Equivaldría conceptualmente al *setter*.\n",
    "\n",
    "*Listado completo: [Documentación oficial de Python](https://docs.python.org/3.8/reference/datamodel.html#special-method-names)*"
   ]
  },
  {
   "cell_type": "code",
   "execution_count": null,
   "metadata": {},
   "outputs": [],
   "source": [
    "# Ejemplo 3\n"
   ]
  },
  {
   "cell_type": "markdown",
   "metadata": {},
   "source": [
    "### Conceptos clave: Herencia\n",
    "En OOP cuando hablamos de herencia nos referimos a la capacidad de una clase de heredar las carácterísticas otra clase (considerada su antecesor). Al heredar, la clase hija tiene automáticamente todos los atributos y métodos de la clase madre disponibles. Esta herramienta es muy potente ya que permite dividir nuestros objetos y abstraer a los antecesores toda la lógica común, mientras que en los sucesores mantendríamos la lógica concreta de ese objeto."
   ]
  },
  {
   "cell_type": "code",
   "execution_count": null,
   "metadata": {},
   "outputs": [],
   "source": [
    "# Ejemplo 4\n"
   ]
  },
  {
   "cell_type": "markdown",
   "metadata": {},
   "source": [
    "### Bola extra: Clases especiales en OOP\n",
    "En el paradigma de la programación orientada a objetos existen dos conceptos adicionales que Python no implementa explicitamente debido a que es un lenguaje interpretado de tipado dinámico:\n",
    "* **Interfaces**: permite definir el comportamiento que debe tener una clase. En su implementación en otros lenguajes declara el esquema obligado de una clase, es decir, los métodos que debe implementar para compilar.\n",
    "* **Clases abstractas**: permite definir el comportamiento e implementar parte del mismo. Ayuda a la abstracción de código permitiendo tener clases que implementan parte de los métodos.  Otros métodos los declaran como una interfaz, de manera que las clases que hereden de esta deben implementar los métodos abstractos."
   ]
  },
  {
   "cell_type": "code",
   "execution_count": null,
   "metadata": {},
   "outputs": [],
   "source": [
    "# Ejemplo 5\n"
   ]
  }
 ],
 "metadata": {
  "kernelspec": {
   "display_name": "Python (python-hands-on)",
   "language": "python",
   "name": "python-hands-on"
  },
  "language_info": {
   "codemirror_mode": {
    "name": "ipython",
    "version": 3
   },
   "file_extension": ".py",
   "mimetype": "text/x-python",
   "name": "python",
   "nbconvert_exporter": "python",
   "pygments_lexer": "ipython3",
   "version": "3.8.2"
  }
 },
 "nbformat": 4,
 "nbformat_minor": 4
}
