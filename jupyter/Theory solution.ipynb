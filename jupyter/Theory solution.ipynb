{
 "cells": [
  {
   "cell_type": "markdown",
   "metadata": {},
   "source": [
    "# Paradigmas de programación\n",
    "El paradigma de programación define la **forma** en que el lenguaje **soluciona los problemas**.\n",
    "\n",
    "Implica una serie de **características intrínsecas** que implementa el lenguaje de programación, y están enfocadas a solucionar ciertos tipos de problemas concretos.\n",
    "\n",
    "## Programación orientada a objetos (OOP)\n",
    "Se basa en la existencia de colecciones de **objetos**, estructuras complejas **con estado**. Se modela por medio de atributos y métodos que modifican esos atributos (el estado). En OOP hay dos conceptos clave que hay que entender antes de poder empezar a trabajar con el paradigma: los objetos y la herencia.\n",
    "\n",
    "### Conceptos clave: Objeto\n",
    "Un objeto es una estructura de datos que hace las veces de tipo de dato. Todos los tipos de datos en Python son objetos, bien sean tipos \"básicos\" (`int`, `float`, `complex`, `bool`, `str`), estructuras de datos (`list`, `dict`) u objetos definidos por el usuario. Más adelante veremos un gráfico con las clases que representan a estos tipos de datos.\n",
    "\n",
    "Un objeto en python se implementa en una **clase** (`class`), que es como se llama en OOP a la implementación concreta de un objeto. Como la clase representa un concepto más complejo y amplio que un tipo básico dispone de un número indeterminado de variables que llamamos atributos. Estos atributos permiten modelar las características (el estado) de la clase.\n",
    "\n",
    "Una instancia es el resultado de instanciar una clase, es decir, el resultado de crear un instancia concreta de nuestra clase genérica.\n",
    "\n",
    "Nota: la convención de nombres utilizada es la de [PEP (Python Enhancement Proposals) 8](https://www.python.org/dev/peps/pep-0008/#naming-conventions)"
   ]
  },
  {
   "cell_type": "code",
   "execution_count": 7,
   "metadata": {},
   "outputs": [
    {
     "data": {
      "text/plain": [
       "<__main__.Gato at 0x1111939a0>"
      ]
     },
     "metadata": {},
     "output_type": "display_data"
    },
    {
     "data": {
      "text/plain": [
       "2"
      ]
     },
     "metadata": {},
     "output_type": "display_data"
    },
    {
     "data": {
      "text/plain": [
       "'Común'"
      ]
     },
     "metadata": {},
     "output_type": "display_data"
    },
    {
     "data": {
      "text/plain": [
       "0"
      ]
     },
     "metadata": {},
     "output_type": "display_data"
    },
    {
     "data": {
      "text/plain": [
       "'Pienso'"
      ]
     },
     "metadata": {},
     "output_type": "display_data"
    },
    {
     "ename": "AttributeError",
     "evalue": "'Gato' object has no attribute 'alimentacion'",
     "output_type": "error",
     "traceback": [
      "\u001b[0;31m---------------------------------------------------------------------------\u001b[0m",
      "\u001b[0;31mAttributeError\u001b[0m                            Traceback (most recent call last)",
      "\u001b[0;32m<ipython-input-7-4ecb06490f77>\u001b[0m in \u001b[0;36m<module>\u001b[0;34m\u001b[0m\n\u001b[1;32m     17\u001b[0m \u001b[0;34m\u001b[0m\u001b[0m\n\u001b[1;32m     18\u001b[0m \u001b[0mdisplay\u001b[0m\u001b[0;34m(\u001b[0m\u001b[0motro_gato\u001b[0m\u001b[0;34m.\u001b[0m\u001b[0malimentacion\u001b[0m\u001b[0;34m)\u001b[0m\u001b[0;34m\u001b[0m\u001b[0;34m\u001b[0m\u001b[0m\n\u001b[0;32m---> 19\u001b[0;31m \u001b[0mdisplay\u001b[0m\u001b[0;34m(\u001b[0m\u001b[0mgato\u001b[0m\u001b[0;34m.\u001b[0m\u001b[0malimentacion\u001b[0m\u001b[0;34m)\u001b[0m\u001b[0;34m\u001b[0m\u001b[0;34m\u001b[0m\u001b[0m\n\u001b[0m",
      "\u001b[0;31mAttributeError\u001b[0m: 'Gato' object has no attribute 'alimentacion'"
     ]
    }
   ],
   "source": [
    "# Ejemplo 1\n",
    "class Animal:\n",
    "    pass\n",
    "\n",
    "class Gato:\n",
    "    edad = 0\n",
    "    raza = 'Común'\n",
    "    \n",
    "gato = Gato()\n",
    "gato.edad = 2\n",
    "otro_gato = Gato()\n",
    "otro_gato.alimentacion = 'Pienso'\n",
    "\n",
    "display(gato)\n",
    "display(gato.edad)\n",
    "display(gato.raza)\n",
    "display(otro_gato.edad)\n",
    "\n",
    "display(otro_gato.alimentacion)\n",
    "display(gato.alimentacion)"
   ]
  },
  {
   "cell_type": "markdown",
   "metadata": {},
   "source": [
    "La segunda herramienta que nos da Python para trabajar con los objetos son los métodos. Son funciones que se implementan dentro de la clase y que solo pueden utilizarse junto con una clase que haya sido instanciada. Esto se debe a que los métodos sirven para generar comportamientos más complejos y modificar el estado interno de la clase, es decir, los atributos de la misma."
   ]
  },
  {
   "cell_type": "code",
   "execution_count": 64,
   "metadata": {},
   "outputs": [
    {
     "data": {
      "text/plain": [
       "True"
      ]
     },
     "metadata": {},
     "output_type": "display_data"
    },
    {
     "data": {
      "text/plain": [
       "False"
      ]
     },
     "metadata": {},
     "output_type": "display_data"
    },
    {
     "name": "stdout",
     "output_type": "stream",
     "text": [
      "\n",
      "\tEl gato doméstico, llamado popularmente gato, es un mamífero carnívoro de la familia Felidae.\n",
      "\n",
      "\n",
      "\tEl gato doméstico, llamado popularmente gato, es un mamífero carnívoro de la familia Felidae.\n",
      "\n"
     ]
    }
   ],
   "source": [
    "# Ejemplo 2\n",
    "# Ejemplo de clase con atributos y métodos\n",
    "\n",
    "class Gato:\n",
    "    edad = 0\n",
    "    raza = 'Común'\n",
    "    \n",
    "    def misma_raza(self, gato):\n",
    "        return self.raza == gato.raza\n",
    "    \n",
    "    @staticmethod\n",
    "    def describir():\n",
    "        print('\\n\\tEl gato doméstico, llamado popularmente gato, es un mamífero carnívoro de la familia Felidae.\\n')\n",
    "    \n",
    "gato = Gato()\n",
    "otro_gato = Gato()\n",
    "\n",
    "display(gato.misma_raza(otro_gato))\n",
    "\n",
    "otro_gato.raza = 'Persa'\n",
    "display(gato.misma_raza(otro_gato))\n",
    "\n",
    "Gato.describir()\n",
    "otro_gato.describir()"
   ]
  },
  {
   "cell_type": "markdown",
   "metadata": {},
   "source": [
    "*Nota*: Existe un tipo particular de método en una clase que son los métodos estáticos. Se definen con el decorador `@staticmethod` y permite invocar ese método sin tener una instancia del objeto."
   ]
  },
  {
   "cell_type": "markdown",
   "metadata": {},
   "source": [
    "Además de los atributos y métodos que defina el usuario, Python genera automáticamente una serie de atributos y funciones internas que utiliza en las funciones del sistema. Son funciones definidas con una nomenclatura especial, que empiezan y acaban por `__`, y estas son las más importantes:\n",
    "* `__init__(self[, ...])`: es la función que hace de constructor, un método interno propio de OOP que define la incialización de los atributos internos en el momento de la instaciación de la clase.\n",
    "* `__repr__(self)`: es la función a la que se llama para obtener la representación en texto\n",
    "del objeto. Si no se implementa devuelve una representación del objeto y su id interno. Además, existe la función `__str__` que se llama en las funciones de `format()` y `print()`, por lo que se recomienda que sea un string más sencillo. Si no se implementa `__str__`, por defecto Python utiliza `__repr__` en todos los casos.\n",
    "* `__getattr__(self, name)`: es la función que se llama cuando se intenta obtener un atributo. Equivaldría conceptualmente al *getter*.\n",
    "* `__setattr__(self, name, value)`: es la función que se llama cuando se intenta modificar un atributo. Equivaldría conceptualmente al *setter*.\n",
    "\n",
    "*Listado completo: [Documentación oficial de Python](https://docs.python.org/3.8/reference/datamodel.html#special-method-names)*"
   ]
  },
  {
   "cell_type": "code",
   "execution_count": 63,
   "metadata": {},
   "outputs": [
    {
     "data": {
      "text/plain": [
       "{'familia': 'Felidae', 'nombre': 'Aldara', 'edad': 0, 'raza': 'Común'}"
      ]
     },
     "metadata": {},
     "output_type": "display_data"
    },
    {
     "data": {
      "text/plain": [
       "'Aldara es un gato Común de 0 años.'"
      ]
     },
     "metadata": {},
     "output_type": "display_data"
    },
    {
     "data": {
      "text/plain": [
       "'otro_gato --> Shukii es un gato ocicat de 0 años.'"
      ]
     },
     "metadata": {},
     "output_type": "display_data"
    },
    {
     "data": {
      "text/plain": [
       "False"
      ]
     },
     "metadata": {},
     "output_type": "display_data"
    },
    {
     "name": "stdout",
     "output_type": "stream",
     "text": [
      "\n",
      "\tEl gato doméstico, llamado popularmente gato, es un mamífero carnívoro de la familia Felidae.\n",
      "\n"
     ]
    }
   ],
   "source": [
    "# Ejemplo 3\n",
    "#Ejemplo de inicialización de clase con constructor y uso de los métodos internos\n",
    "\n",
    "class Gato:\n",
    "    familia = 'Felidae' # Atributo de clase (\"constante\")\n",
    "    \n",
    "    # Constructor, inicializa atributos de instancia (\"variables\")\n",
    "    def __init__(self, nombre, edad=0, raza='Común'):\n",
    "        self.nombre = nombre\n",
    "        self.edad = edad\n",
    "        self.raza = raza\n",
    "        \n",
    "    def __repr__(self):\n",
    "        return str({\n",
    "            'familia': self.familia,\n",
    "            'nombre': self.nombre,\n",
    "            'edad': self.edad,\n",
    "            'raza': self.raza\n",
    "        })\n",
    "    def __str__(self):\n",
    "        return '{} es un gato {} de {} años.'.format(self.nombre, self.raza, self.edad)\n",
    "    \n",
    "    def misma_raza(self, gato):\n",
    "        return self.raza == gato.raza\n",
    "    \n",
    "    @staticmethod\n",
    "    def describir():\n",
    "        print('\\n\\tEl gato doméstico, llamado popularmente gato, es un mamífero carnívoro de la familia {}.\\n'.format(Gato.familia))\n",
    "        \n",
    "gato = Gato('Aldara')\n",
    "otro_gato = Gato('Shukii', raza='ocicat')\n",
    "\n",
    "display(gato)\n",
    "display(str(gato))\n",
    "display('otro_gato --> {}'.format(otro_gato))\n",
    "display(gato.misma_raza(otro_gato))"
   ]
  },
  {
   "cell_type": "markdown",
   "metadata": {},
   "source": [
    "### Conceptos clave: Herencia\n",
    "En OOP cuando hablamos de herencia nos referimos a la capacidad de una clase de heredar las carácterísticas otra clase (considerada su antecesor). Al heredar, la clase hija tiene automáticamente todos los atributos y métodos de la clase madre disponibles. Esta herramienta es muy potente ya que permite dividir nuestros objetos y abstraer a los antecesores toda la lógica común, mientras que en los sucesores mantendríamos la lógica concreta de ese objeto."
   ]
  },
  {
   "cell_type": "code",
   "execution_count": 2,
   "metadata": {},
   "outputs": [
    {
     "data": {
      "text/plain": [
       "Bos primigenius taurus, animal artiodáctilo de la familia Bovidae."
      ]
     },
     "metadata": {},
     "output_type": "display_data"
    },
    {
     "data": {
      "text/plain": [
       "False"
      ]
     },
     "metadata": {},
     "output_type": "display_data"
    },
    {
     "data": {
      "text/plain": [
       "Felis silvestris catus, animal carnivoro de la familia Felidae."
      ]
     },
     "metadata": {},
     "output_type": "display_data"
    },
    {
     "data": {
      "text/plain": [
       "True"
      ]
     },
     "metadata": {},
     "output_type": "display_data"
    },
    {
     "ename": "AttributeError",
     "evalue": "'Animal' object has no attribute 'actividad_normal'",
     "output_type": "error",
     "traceback": [
      "\u001b[0;31m---------------------------------------------------------------------------\u001b[0m",
      "\u001b[0;31mAttributeError\u001b[0m                            Traceback (most recent call last)",
      "\u001b[0;32m<ipython-input-2-c6100156420b>\u001b[0m in \u001b[0;36m<module>\u001b[0;34m\u001b[0m\n\u001b[1;32m     27\u001b[0m \u001b[0mdisplay\u001b[0m\u001b[0;34m(\u001b[0m\u001b[0mgato\u001b[0m\u001b[0;34m)\u001b[0m\u001b[0;34m\u001b[0m\u001b[0;34m\u001b[0m\u001b[0m\n\u001b[1;32m     28\u001b[0m \u001b[0mdisplay\u001b[0m\u001b[0;34m(\u001b[0m\u001b[0mgato\u001b[0m\u001b[0;34m.\u001b[0m\u001b[0mcome_carne\u001b[0m\u001b[0;34m(\u001b[0m\u001b[0;34m)\u001b[0m\u001b[0;34m)\u001b[0m\u001b[0;34m\u001b[0m\u001b[0;34m\u001b[0m\u001b[0m\n\u001b[0;32m---> 29\u001b[0;31m \u001b[0mdisplay\u001b[0m\u001b[0;34m(\u001b[0m\u001b[0mgato\u001b[0m\u001b[0;34m.\u001b[0m\u001b[0mactividad_normal\u001b[0m\u001b[0;34m(\u001b[0m\u001b[0;34m)\u001b[0m\u001b[0;34m)\u001b[0m\u001b[0;34m\u001b[0m\u001b[0;34m\u001b[0m\u001b[0m\n\u001b[0m\u001b[1;32m     30\u001b[0m \u001b[0mdisplay\u001b[0m\u001b[0;34m(\u001b[0m\u001b[0mgato\u001b[0m\u001b[0;34m.\u001b[0m\u001b[0mtipo\u001b[0m\u001b[0;34m(\u001b[0m\u001b[0;34m)\u001b[0m\u001b[0;34m)\u001b[0m\u001b[0;34m\u001b[0m\u001b[0;34m\u001b[0m\u001b[0m\n",
      "\u001b[0;31mAttributeError\u001b[0m: 'Animal' object has no attribute 'actividad_normal'"
     ]
    }
   ],
   "source": [
    "# Ejemplo 4\n",
    "\n",
    "class Animal:\n",
    "    REINO = 'Animalia'\n",
    "\n",
    "    def __init__(self, nombre_cientifico, orden, familia):\n",
    "        self.nombre_cientifico = nombre_cientifico\n",
    "        self.orden = orden\n",
    "        self.familia = familia\n",
    "\n",
    "    def __repr__(self):\n",
    "        return '{}, animal {} de la familia {}.'.format(self.nombre_cientifico, self.orden, self.familia)\n",
    "    \n",
    "    @classmethod\n",
    "    def tipo(cls):\n",
    "        if cls != Animal:\n",
    "            return 'Es un animal ({}) del reino {}.'.format(cls.__name__.lower(), cls.REINO.lower())\n",
    "        return 'Es un animal del reino {}.'.format(cls.REINO.lower())\n",
    "\n",
    "    def come_carne(self):\n",
    "        return self.orden == 'carnivoro'\n",
    "\n",
    "vaca = Animal('Bos primigenius taurus', 'artiodáctilo', 'Bovidae')\n",
    "display(vaca)\n",
    "display(vaca.come_carne())\n",
    "gato = Animal('Felis silvestris catus', 'carnivoro', 'Felidae')\n",
    "display(gato)\n",
    "display(gato.come_carne())\n",
    "display(gato.actividad_normal())\n",
    "display(gato.tipo())"
   ]
  },
  {
   "cell_type": "code",
   "execution_count": 78,
   "metadata": {},
   "outputs": [
    {
     "ename": "AttributeError",
     "evalue": "'Gato' object has no attribute 'nombre_cientifico'",
     "output_type": "error",
     "traceback": [
      "\u001b[0;31m---------------------------------------------------------------------------\u001b[0m",
      "\u001b[0;31mAttributeError\u001b[0m                            Traceback (most recent call last)",
      "\u001b[0;32m~/miniconda3/envs/python-hands-on/lib/python3.8/site-packages/IPython/core/formatters.py\u001b[0m in \u001b[0;36m__call__\u001b[0;34m(self, obj)\u001b[0m\n\u001b[1;32m    700\u001b[0m                 \u001b[0mtype_pprinters\u001b[0m\u001b[0;34m=\u001b[0m\u001b[0mself\u001b[0m\u001b[0;34m.\u001b[0m\u001b[0mtype_printers\u001b[0m\u001b[0;34m,\u001b[0m\u001b[0;34m\u001b[0m\u001b[0;34m\u001b[0m\u001b[0m\n\u001b[1;32m    701\u001b[0m                 deferred_pprinters=self.deferred_printers)\n\u001b[0;32m--> 702\u001b[0;31m             \u001b[0mprinter\u001b[0m\u001b[0;34m.\u001b[0m\u001b[0mpretty\u001b[0m\u001b[0;34m(\u001b[0m\u001b[0mobj\u001b[0m\u001b[0;34m)\u001b[0m\u001b[0;34m\u001b[0m\u001b[0;34m\u001b[0m\u001b[0m\n\u001b[0m\u001b[1;32m    703\u001b[0m             \u001b[0mprinter\u001b[0m\u001b[0;34m.\u001b[0m\u001b[0mflush\u001b[0m\u001b[0;34m(\u001b[0m\u001b[0;34m)\u001b[0m\u001b[0;34m\u001b[0m\u001b[0;34m\u001b[0m\u001b[0m\n\u001b[1;32m    704\u001b[0m             \u001b[0;32mreturn\u001b[0m \u001b[0mstream\u001b[0m\u001b[0;34m.\u001b[0m\u001b[0mgetvalue\u001b[0m\u001b[0;34m(\u001b[0m\u001b[0;34m)\u001b[0m\u001b[0;34m\u001b[0m\u001b[0;34m\u001b[0m\u001b[0m\n",
      "\u001b[0;32m~/miniconda3/envs/python-hands-on/lib/python3.8/site-packages/IPython/lib/pretty.py\u001b[0m in \u001b[0;36mpretty\u001b[0;34m(self, obj)\u001b[0m\n\u001b[1;32m    392\u001b[0m                         \u001b[0;32mif\u001b[0m \u001b[0mcls\u001b[0m \u001b[0;32mis\u001b[0m \u001b[0;32mnot\u001b[0m \u001b[0mobject\u001b[0m\u001b[0;31m \u001b[0m\u001b[0;31m\\\u001b[0m\u001b[0;34m\u001b[0m\u001b[0;34m\u001b[0m\u001b[0m\n\u001b[1;32m    393\u001b[0m                                 \u001b[0;32mand\u001b[0m \u001b[0mcallable\u001b[0m\u001b[0;34m(\u001b[0m\u001b[0mcls\u001b[0m\u001b[0;34m.\u001b[0m\u001b[0m__dict__\u001b[0m\u001b[0;34m.\u001b[0m\u001b[0mget\u001b[0m\u001b[0;34m(\u001b[0m\u001b[0;34m'__repr__'\u001b[0m\u001b[0;34m)\u001b[0m\u001b[0;34m)\u001b[0m\u001b[0;34m:\u001b[0m\u001b[0;34m\u001b[0m\u001b[0;34m\u001b[0m\u001b[0m\n\u001b[0;32m--> 394\u001b[0;31m                             \u001b[0;32mreturn\u001b[0m \u001b[0m_repr_pprint\u001b[0m\u001b[0;34m(\u001b[0m\u001b[0mobj\u001b[0m\u001b[0;34m,\u001b[0m \u001b[0mself\u001b[0m\u001b[0;34m,\u001b[0m \u001b[0mcycle\u001b[0m\u001b[0;34m)\u001b[0m\u001b[0;34m\u001b[0m\u001b[0;34m\u001b[0m\u001b[0m\n\u001b[0m\u001b[1;32m    395\u001b[0m \u001b[0;34m\u001b[0m\u001b[0m\n\u001b[1;32m    396\u001b[0m             \u001b[0;32mreturn\u001b[0m \u001b[0m_default_pprint\u001b[0m\u001b[0;34m(\u001b[0m\u001b[0mobj\u001b[0m\u001b[0;34m,\u001b[0m \u001b[0mself\u001b[0m\u001b[0;34m,\u001b[0m \u001b[0mcycle\u001b[0m\u001b[0;34m)\u001b[0m\u001b[0;34m\u001b[0m\u001b[0;34m\u001b[0m\u001b[0m\n",
      "\u001b[0;32m~/miniconda3/envs/python-hands-on/lib/python3.8/site-packages/IPython/lib/pretty.py\u001b[0m in \u001b[0;36m_repr_pprint\u001b[0;34m(obj, p, cycle)\u001b[0m\n\u001b[1;32m    682\u001b[0m     \u001b[0;34m\"\"\"A pprint that just redirects to the normal repr function.\"\"\"\u001b[0m\u001b[0;34m\u001b[0m\u001b[0;34m\u001b[0m\u001b[0m\n\u001b[1;32m    683\u001b[0m     \u001b[0;31m# Find newlines and replace them with p.break_()\u001b[0m\u001b[0;34m\u001b[0m\u001b[0;34m\u001b[0m\u001b[0;34m\u001b[0m\u001b[0m\n\u001b[0;32m--> 684\u001b[0;31m     \u001b[0moutput\u001b[0m \u001b[0;34m=\u001b[0m \u001b[0mrepr\u001b[0m\u001b[0;34m(\u001b[0m\u001b[0mobj\u001b[0m\u001b[0;34m)\u001b[0m\u001b[0;34m\u001b[0m\u001b[0;34m\u001b[0m\u001b[0m\n\u001b[0m\u001b[1;32m    685\u001b[0m     \u001b[0mlines\u001b[0m \u001b[0;34m=\u001b[0m \u001b[0moutput\u001b[0m\u001b[0;34m.\u001b[0m\u001b[0msplitlines\u001b[0m\u001b[0;34m(\u001b[0m\u001b[0;34m)\u001b[0m\u001b[0;34m\u001b[0m\u001b[0;34m\u001b[0m\u001b[0m\n\u001b[1;32m    686\u001b[0m     \u001b[0;32mwith\u001b[0m \u001b[0mp\u001b[0m\u001b[0;34m.\u001b[0m\u001b[0mgroup\u001b[0m\u001b[0;34m(\u001b[0m\u001b[0;34m)\u001b[0m\u001b[0;34m:\u001b[0m\u001b[0;34m\u001b[0m\u001b[0;34m\u001b[0m\u001b[0m\n",
      "\u001b[0;32m<ipython-input-77-ff78120bc4c2>\u001b[0m in \u001b[0;36m__repr__\u001b[0;34m(self)\u001b[0m\n\u001b[1;32m     10\u001b[0m \u001b[0;34m\u001b[0m\u001b[0m\n\u001b[1;32m     11\u001b[0m     \u001b[0;32mdef\u001b[0m \u001b[0m__repr__\u001b[0m\u001b[0;34m(\u001b[0m\u001b[0mself\u001b[0m\u001b[0;34m)\u001b[0m\u001b[0;34m:\u001b[0m\u001b[0;34m\u001b[0m\u001b[0;34m\u001b[0m\u001b[0m\n\u001b[0;32m---> 12\u001b[0;31m         \u001b[0;32mreturn\u001b[0m \u001b[0;34m'{}, animal {} de la familia {}.'\u001b[0m\u001b[0;34m.\u001b[0m\u001b[0mformat\u001b[0m\u001b[0;34m(\u001b[0m\u001b[0mself\u001b[0m\u001b[0;34m.\u001b[0m\u001b[0mnombre_cientifico\u001b[0m\u001b[0;34m,\u001b[0m \u001b[0mself\u001b[0m\u001b[0;34m.\u001b[0m\u001b[0morden\u001b[0m\u001b[0;34m,\u001b[0m \u001b[0mself\u001b[0m\u001b[0;34m.\u001b[0m\u001b[0mfamilia\u001b[0m\u001b[0;34m)\u001b[0m\u001b[0;34m\u001b[0m\u001b[0;34m\u001b[0m\u001b[0m\n\u001b[0m\u001b[1;32m     13\u001b[0m \u001b[0;34m\u001b[0m\u001b[0m\n\u001b[1;32m     14\u001b[0m     \u001b[0;34m@\u001b[0m\u001b[0mclassmethod\u001b[0m\u001b[0;34m\u001b[0m\u001b[0;34m\u001b[0m\u001b[0m\n",
      "\u001b[0;31mAttributeError\u001b[0m: 'Gato' object has no attribute 'nombre_cientifico'"
     ]
    },
    {
     "ename": "AttributeError",
     "evalue": "'Gato' object has no attribute 'nombre_cientifico'",
     "output_type": "error",
     "traceback": [
      "\u001b[0;31m---------------------------------------------------------------------------\u001b[0m",
      "\u001b[0;31mAttributeError\u001b[0m                            Traceback (most recent call last)",
      "\u001b[0;32m~/miniconda3/envs/python-hands-on/lib/python3.8/site-packages/IPython/core/formatters.py\u001b[0m in \u001b[0;36m__call__\u001b[0;34m(self, obj)\u001b[0m\n\u001b[1;32m    700\u001b[0m                 \u001b[0mtype_pprinters\u001b[0m\u001b[0;34m=\u001b[0m\u001b[0mself\u001b[0m\u001b[0;34m.\u001b[0m\u001b[0mtype_printers\u001b[0m\u001b[0;34m,\u001b[0m\u001b[0;34m\u001b[0m\u001b[0;34m\u001b[0m\u001b[0m\n\u001b[1;32m    701\u001b[0m                 deferred_pprinters=self.deferred_printers)\n\u001b[0;32m--> 702\u001b[0;31m             \u001b[0mprinter\u001b[0m\u001b[0;34m.\u001b[0m\u001b[0mpretty\u001b[0m\u001b[0;34m(\u001b[0m\u001b[0mobj\u001b[0m\u001b[0;34m)\u001b[0m\u001b[0;34m\u001b[0m\u001b[0;34m\u001b[0m\u001b[0m\n\u001b[0m\u001b[1;32m    703\u001b[0m             \u001b[0mprinter\u001b[0m\u001b[0;34m.\u001b[0m\u001b[0mflush\u001b[0m\u001b[0;34m(\u001b[0m\u001b[0;34m)\u001b[0m\u001b[0;34m\u001b[0m\u001b[0;34m\u001b[0m\u001b[0m\n\u001b[1;32m    704\u001b[0m             \u001b[0;32mreturn\u001b[0m \u001b[0mstream\u001b[0m\u001b[0;34m.\u001b[0m\u001b[0mgetvalue\u001b[0m\u001b[0;34m(\u001b[0m\u001b[0;34m)\u001b[0m\u001b[0;34m\u001b[0m\u001b[0;34m\u001b[0m\u001b[0m\n",
      "\u001b[0;32m~/miniconda3/envs/python-hands-on/lib/python3.8/site-packages/IPython/lib/pretty.py\u001b[0m in \u001b[0;36mpretty\u001b[0;34m(self, obj)\u001b[0m\n\u001b[1;32m    392\u001b[0m                         \u001b[0;32mif\u001b[0m \u001b[0mcls\u001b[0m \u001b[0;32mis\u001b[0m \u001b[0;32mnot\u001b[0m \u001b[0mobject\u001b[0m\u001b[0;31m \u001b[0m\u001b[0;31m\\\u001b[0m\u001b[0;34m\u001b[0m\u001b[0;34m\u001b[0m\u001b[0m\n\u001b[1;32m    393\u001b[0m                                 \u001b[0;32mand\u001b[0m \u001b[0mcallable\u001b[0m\u001b[0;34m(\u001b[0m\u001b[0mcls\u001b[0m\u001b[0;34m.\u001b[0m\u001b[0m__dict__\u001b[0m\u001b[0;34m.\u001b[0m\u001b[0mget\u001b[0m\u001b[0;34m(\u001b[0m\u001b[0;34m'__repr__'\u001b[0m\u001b[0;34m)\u001b[0m\u001b[0;34m)\u001b[0m\u001b[0;34m:\u001b[0m\u001b[0;34m\u001b[0m\u001b[0;34m\u001b[0m\u001b[0m\n\u001b[0;32m--> 394\u001b[0;31m                             \u001b[0;32mreturn\u001b[0m \u001b[0m_repr_pprint\u001b[0m\u001b[0;34m(\u001b[0m\u001b[0mobj\u001b[0m\u001b[0;34m,\u001b[0m \u001b[0mself\u001b[0m\u001b[0;34m,\u001b[0m \u001b[0mcycle\u001b[0m\u001b[0;34m)\u001b[0m\u001b[0;34m\u001b[0m\u001b[0;34m\u001b[0m\u001b[0m\n\u001b[0m\u001b[1;32m    395\u001b[0m \u001b[0;34m\u001b[0m\u001b[0m\n\u001b[1;32m    396\u001b[0m             \u001b[0;32mreturn\u001b[0m \u001b[0m_default_pprint\u001b[0m\u001b[0;34m(\u001b[0m\u001b[0mobj\u001b[0m\u001b[0;34m,\u001b[0m \u001b[0mself\u001b[0m\u001b[0;34m,\u001b[0m \u001b[0mcycle\u001b[0m\u001b[0;34m)\u001b[0m\u001b[0;34m\u001b[0m\u001b[0;34m\u001b[0m\u001b[0m\n",
      "\u001b[0;32m~/miniconda3/envs/python-hands-on/lib/python3.8/site-packages/IPython/lib/pretty.py\u001b[0m in \u001b[0;36m_repr_pprint\u001b[0;34m(obj, p, cycle)\u001b[0m\n\u001b[1;32m    682\u001b[0m     \u001b[0;34m\"\"\"A pprint that just redirects to the normal repr function.\"\"\"\u001b[0m\u001b[0;34m\u001b[0m\u001b[0;34m\u001b[0m\u001b[0m\n\u001b[1;32m    683\u001b[0m     \u001b[0;31m# Find newlines and replace them with p.break_()\u001b[0m\u001b[0;34m\u001b[0m\u001b[0;34m\u001b[0m\u001b[0;34m\u001b[0m\u001b[0m\n\u001b[0;32m--> 684\u001b[0;31m     \u001b[0moutput\u001b[0m \u001b[0;34m=\u001b[0m \u001b[0mrepr\u001b[0m\u001b[0;34m(\u001b[0m\u001b[0mobj\u001b[0m\u001b[0;34m)\u001b[0m\u001b[0;34m\u001b[0m\u001b[0;34m\u001b[0m\u001b[0m\n\u001b[0m\u001b[1;32m    685\u001b[0m     \u001b[0mlines\u001b[0m \u001b[0;34m=\u001b[0m \u001b[0moutput\u001b[0m\u001b[0;34m.\u001b[0m\u001b[0msplitlines\u001b[0m\u001b[0;34m(\u001b[0m\u001b[0;34m)\u001b[0m\u001b[0;34m\u001b[0m\u001b[0;34m\u001b[0m\u001b[0m\n\u001b[1;32m    686\u001b[0m     \u001b[0;32mwith\u001b[0m \u001b[0mp\u001b[0m\u001b[0;34m.\u001b[0m\u001b[0mgroup\u001b[0m\u001b[0;34m(\u001b[0m\u001b[0;34m)\u001b[0m\u001b[0;34m:\u001b[0m\u001b[0;34m\u001b[0m\u001b[0;34m\u001b[0m\u001b[0m\n",
      "\u001b[0;32m<ipython-input-77-ff78120bc4c2>\u001b[0m in \u001b[0;36m__repr__\u001b[0;34m(self)\u001b[0m\n\u001b[1;32m     10\u001b[0m \u001b[0;34m\u001b[0m\u001b[0m\n\u001b[1;32m     11\u001b[0m     \u001b[0;32mdef\u001b[0m \u001b[0m__repr__\u001b[0m\u001b[0;34m(\u001b[0m\u001b[0mself\u001b[0m\u001b[0;34m)\u001b[0m\u001b[0;34m:\u001b[0m\u001b[0;34m\u001b[0m\u001b[0;34m\u001b[0m\u001b[0m\n\u001b[0;32m---> 12\u001b[0;31m         \u001b[0;32mreturn\u001b[0m \u001b[0;34m'{}, animal {} de la familia {}.'\u001b[0m\u001b[0;34m.\u001b[0m\u001b[0mformat\u001b[0m\u001b[0;34m(\u001b[0m\u001b[0mself\u001b[0m\u001b[0;34m.\u001b[0m\u001b[0mnombre_cientifico\u001b[0m\u001b[0;34m,\u001b[0m \u001b[0mself\u001b[0m\u001b[0;34m.\u001b[0m\u001b[0morden\u001b[0m\u001b[0;34m,\u001b[0m \u001b[0mself\u001b[0m\u001b[0;34m.\u001b[0m\u001b[0mfamilia\u001b[0m\u001b[0;34m)\u001b[0m\u001b[0;34m\u001b[0m\u001b[0;34m\u001b[0m\u001b[0m\n\u001b[0m\u001b[1;32m     13\u001b[0m \u001b[0;34m\u001b[0m\u001b[0m\n\u001b[1;32m     14\u001b[0m     \u001b[0;34m@\u001b[0m\u001b[0mclassmethod\u001b[0m\u001b[0;34m\u001b[0m\u001b[0;34m\u001b[0m\u001b[0m\n",
      "\u001b[0;31mAttributeError\u001b[0m: 'Gato' object has no attribute 'nombre_cientifico'"
     ]
    }
   ],
   "source": [
    "# Ejemplo 4\n",
    "        \n",
    "class Gato(Animal):\n",
    "\n",
    "    def __init__(self, nombre, edad=0, raza='Común'):\n",
    "        self.nombre = nombre\n",
    "        self.edad = edad\n",
    "        self.raza = raza\n",
    "        \n",
    "gato = Gato('Aldara')\n",
    "otro_gato = Gato('Shukii', raza='ocicat')\n",
    "\n",
    "display(gato)\n",
    "display(otro_gato)"
   ]
  },
  {
   "cell_type": "code",
   "execution_count": 1,
   "metadata": {},
   "outputs": [
    {
     "ename": "NameError",
     "evalue": "name 'Animal' is not defined",
     "output_type": "error",
     "traceback": [
      "\u001b[0;31m---------------------------------------------------------------------------\u001b[0m",
      "\u001b[0;31mNameError\u001b[0m                                 Traceback (most recent call last)",
      "\u001b[0;32m<ipython-input-1-c7c4c870dbd8>\u001b[0m in \u001b[0;36m<module>\u001b[0;34m\u001b[0m\n\u001b[1;32m      1\u001b[0m \u001b[0;31m# Ejemplo 4\u001b[0m\u001b[0;34m\u001b[0m\u001b[0;34m\u001b[0m\u001b[0;34m\u001b[0m\u001b[0m\n\u001b[1;32m      2\u001b[0m \u001b[0;34m\u001b[0m\u001b[0m\n\u001b[0;32m----> 3\u001b[0;31m \u001b[0;32mclass\u001b[0m \u001b[0mGato\u001b[0m\u001b[0;34m(\u001b[0m\u001b[0mAnimal\u001b[0m\u001b[0;34m)\u001b[0m\u001b[0;34m:\u001b[0m\u001b[0;34m\u001b[0m\u001b[0;34m\u001b[0m\u001b[0m\n\u001b[0m\u001b[1;32m      4\u001b[0m \u001b[0;34m\u001b[0m\u001b[0m\n\u001b[1;32m      5\u001b[0m     \u001b[0;32mdef\u001b[0m \u001b[0m__init__\u001b[0m\u001b[0;34m(\u001b[0m\u001b[0mself\u001b[0m\u001b[0;34m,\u001b[0m \u001b[0mnombre\u001b[0m\u001b[0;34m,\u001b[0m \u001b[0medad\u001b[0m\u001b[0;34m=\u001b[0m\u001b[0;36m0\u001b[0m\u001b[0;34m,\u001b[0m \u001b[0mraza\u001b[0m\u001b[0;34m=\u001b[0m\u001b[0;34m'Común'\u001b[0m\u001b[0;34m)\u001b[0m\u001b[0;34m:\u001b[0m\u001b[0;34m\u001b[0m\u001b[0;34m\u001b[0m\u001b[0m\n",
      "\u001b[0;31mNameError\u001b[0m: name 'Animal' is not defined"
     ]
    }
   ],
   "source": [
    "# Ejemplo 4\n",
    "\n",
    "class Gato(Animal):\n",
    "\n",
    "    def __init__(self, nombre, edad=0, raza='Común'):\n",
    "        self.nombre = nombre\n",
    "        self.edad = edad\n",
    "        self.raza = raza\n",
    "\n",
    "    def __repr__(self):\n",
    "        return '{} es un gato {} de {} años.'.format(self.nombre, self.raza, self.edad)\n",
    "        \n",
    "gato = Gato('Aldara')\n",
    "otro_gato = Gato('Shukii', raza='ocicat')\n",
    "\n",
    "display(gato)\n",
    "display(otro_gato)"
   ]
  },
  {
   "cell_type": "code",
   "execution_count": 15,
   "metadata": {},
   "outputs": [
    {
     "data": {
      "text/plain": [
       "Felis silvestris catus, animal carnivoro de la familia Felidae."
      ]
     },
     "metadata": {},
     "output_type": "display_data"
    },
    {
     "data": {
      "text/plain": [
       "Felis silvestris catus, animal carnivoro de la familia Felidae."
      ]
     },
     "metadata": {},
     "output_type": "display_data"
    }
   ],
   "source": [
    "# Ejemplo 4\n",
    "        \n",
    "class Gato(Animal):\n",
    "\n",
    "    def __init__(self, nombre, edad=0, raza='Común'):\n",
    "        super().__init__('Felis silvestris catus', 'carnivoro', 'Felidae')\n",
    "        self.nombre = nombre\n",
    "        self.edad = edad\n",
    "        self.raza = raza\n",
    "        \n",
    "gato = Gato('Aldara')\n",
    "otro_gato = Gato('Shukii', raza='ocicat')\n",
    "\n",
    "display(gato)\n",
    "display(otro_gato)"
   ]
  },
  {
   "cell_type": "code",
   "execution_count": 6,
   "metadata": {},
   "outputs": [
    {
     "data": {
      "text/plain": [
       "Felis silvestris catus, animal carnivoro de la familia Felidae.\n",
       "Aldara es un gato Común de 0 años."
      ]
     },
     "metadata": {},
     "output_type": "display_data"
    },
    {
     "data": {
      "text/plain": [
       "Felis silvestris catus, animal carnivoro de la familia Felidae.\n",
       "Shukii es un gato ocicat de 0 años."
      ]
     },
     "metadata": {},
     "output_type": "display_data"
    }
   ],
   "source": [
    "# Ejemplo 4\n",
    "\n",
    "class Gato(Animal):\n",
    "\n",
    "    def __init__(self, nombre, edad=0, raza='Común'):\n",
    "        super().__init__('Felis silvestris catus', 'carnivoro', 'Felidae')\n",
    "        self.nombre = nombre\n",
    "        self.edad = edad\n",
    "        self.raza = raza\n",
    "\n",
    "    def __repr__(self):\n",
    "        return '{}\\n{} es un gato {} de {} años.'.format(super().__repr__(), self.nombre, self.raza, self.edad)\n",
    "        \n",
    "gato = Gato('Aldara')\n",
    "otro_gato = Gato('Shukii', raza='ocicat')\n",
    "\n",
    "display(gato)\n",
    "display(otro_gato)"
   ]
  },
  {
   "cell_type": "markdown",
   "metadata": {},
   "source": [
    "### Bola extra: Clases especiales en OOP\n",
    "En el paradigma de la programación orientada a objetos existen dos conceptos adicionales que Python no implementa explicitamente debido a que es un lenguaje interpretado de tipado dinámico:\n",
    "* **Interfaces**: permite definir el comportamiento que debe tener una clase. En su implementación en otros lenguajes declara el esquema obligado de una clase, es decir, los métodos que debe implementar para compilar.\n",
    "* **Clases abstractas**: permite definir el comportamiento e implementar parte del mismo. Ayuda a la abstracción de código permitiendo tener clases que implementan parte de los métodos.  Otros métodos los declaran como una interfaz, de manera que las clases que hereden de esta deben implementar los métodos abstractos."
   ]
  },
  {
   "cell_type": "code",
   "execution_count": 10,
   "metadata": {},
   "outputs": [
    {
     "ename": "AttributeError",
     "evalue": "'Gato' object has no attribute 'actividad_diaria'",
     "output_type": "error",
     "traceback": [
      "\u001b[0;31m---------------------------------------------------------------------------\u001b[0m",
      "\u001b[0;31mAttributeError\u001b[0m                            Traceback (most recent call last)",
      "\u001b[0;32m<ipython-input-10-a2a078b6501a>\u001b[0m in \u001b[0;36m<module>\u001b[0;34m\u001b[0m\n\u001b[1;32m     35\u001b[0m \u001b[0mgato\u001b[0m \u001b[0;34m=\u001b[0m \u001b[0mGato\u001b[0m\u001b[0;34m(\u001b[0m\u001b[0;34m'Aldara'\u001b[0m\u001b[0;34m)\u001b[0m\u001b[0;34m\u001b[0m\u001b[0;34m\u001b[0m\u001b[0m\n\u001b[1;32m     36\u001b[0m \u001b[0;34m\u001b[0m\u001b[0m\n\u001b[0;32m---> 37\u001b[0;31m \u001b[0mgato\u001b[0m\u001b[0;34m.\u001b[0m\u001b[0mactividad_diaria\u001b[0m\u001b[0;34m(\u001b[0m\u001b[0;34m)\u001b[0m\u001b[0;34m\u001b[0m\u001b[0;34m\u001b[0m\u001b[0m\n\u001b[0m",
      "\u001b[0;31mAttributeError\u001b[0m: 'Gato' object has no attribute 'actividad_diaria'"
     ]
    }
   ],
   "source": [
    "# Ejemplo 5\n",
    "# Ejemplo de \"implementación\" de una interfaz y clase abstracta\n",
    "\n",
    "class Animal:\n",
    "    REINO = 'Animalia'\n",
    "\n",
    "    def __init__(self, nombre_cientifico, orden, familia):\n",
    "        self.nombre_cientifico = nombre_cientifico\n",
    "        self.orden = orden\n",
    "        self.familia = familia\n",
    "\n",
    "    def __repr__(self):\n",
    "        return '{}, animal {} de la familia {}.'.format(self.nombre_cientifico, self.orden, self.familia)\n",
    "    \n",
    "    @classmethod\n",
    "    def tipo(cls):\n",
    "        if cls != Animal:\n",
    "            return 'Es un animal ({}) del reino {}.'.format(cls.__name__.lower(), cls.REINO.lower())\n",
    "        return 'Es un animal del reino {}.'.format(cls.REINO.lower())\n",
    "\n",
    "    def come_carne(self):\n",
    "        return self.orden == 'carnivoro'\n",
    "\n",
    "class Gato(Animal):\n",
    "\n",
    "    def __init__(self, nombre, edad=0, raza='Común'):\n",
    "        super().__init__('Felis silvestris catus', 'carnivoro', 'Felidae')\n",
    "        self.nombre = nombre\n",
    "        self.edad = edad\n",
    "        self.raza = raza\n",
    "\n",
    "    def __repr__(self):\n",
    "        return '{}\\n{} es un gato {} de {} años.'.format(super().__repr__(), self.nombre, self.raza, self.edad)\n",
    "        \n",
    "gato = Gato('Aldara')\n",
    "\n",
    "gato.actividad_diaria()"
   ]
  },
  {
   "cell_type": "code",
   "execution_count": 12,
   "metadata": {},
   "outputs": [
    {
     "data": {
      "text/plain": [
       "'Su actividad diaria no es generica.'"
      ]
     },
     "execution_count": 12,
     "metadata": {},
     "output_type": "execute_result"
    }
   ],
   "source": [
    "# Ejemplo 5\n",
    "# Ejemplo de \"implementación\" de una interfaz y clase abstracta\n",
    "\n",
    "class Animal:\n",
    "    REINO = 'Animalia'\n",
    "\n",
    "    def __init__(self, nombre_cientifico, orden, familia):\n",
    "        self.nombre_cientifico = nombre_cientifico\n",
    "        self.orden = orden\n",
    "        self.familia = familia\n",
    "\n",
    "    def __repr__(self):\n",
    "        return '{}, animal {} de la familia {}.'.format(self.nombre_cientifico, self.orden, self.familia)\n",
    "    \n",
    "    @classmethod\n",
    "    def tipo(cls):\n",
    "        if cls != Animal:\n",
    "            return 'Es un animal ({}) del reino {}.'.format(cls.__name__.lower(), cls.REINO.lower())\n",
    "        return 'Es un animal del reino {}.'.format(cls.REINO.lower())\n",
    "\n",
    "    def come_carne(self):\n",
    "        return self.orden == 'carnivoro'\n",
    "\n",
    "    def actividad_normal(self):\n",
    "        return 'Su actividad diaria no es generica.'\n",
    "            \n",
    "class Gato(Animal):\n",
    "\n",
    "    def __init__(self, nombre, edad=0, raza='Común'):\n",
    "        super().__init__('Felis silvestris catus', 'carnivoro', 'Felidae')\n",
    "        self.nombre = nombre\n",
    "        self.edad = edad\n",
    "        self.raza = raza\n",
    "\n",
    "    def __repr__(self):\n",
    "        return '{}\\n{} es un gato {} de {} años.'.format(super().__repr__(), self.nombre, self.raza, self.edad)\n",
    "        \n",
    "gato = Gato('Aldara')\n",
    "\n",
    "gato.actividad_normal()"
   ]
  },
  {
   "cell_type": "code",
   "execution_count": 7,
   "metadata": {},
   "outputs": [
    {
     "ename": "TypeError",
     "evalue": "Can't instantiate abstract class Gato with abstract methods actividad_normal",
     "output_type": "error",
     "traceback": [
      "\u001b[0;31m---------------------------------------------------------------------------\u001b[0m",
      "\u001b[0;31mTypeError\u001b[0m                                 Traceback (most recent call last)",
      "\u001b[0;32m<ipython-input-7-cd01596ecb02>\u001b[0m in \u001b[0;36m<module>\u001b[0;34m\u001b[0m\n\u001b[1;32m     41\u001b[0m         \u001b[0;32mreturn\u001b[0m \u001b[0;34m'{}\\n{} es un gato {} de {} años.'\u001b[0m\u001b[0;34m.\u001b[0m\u001b[0mformat\u001b[0m\u001b[0;34m(\u001b[0m\u001b[0msuper\u001b[0m\u001b[0;34m(\u001b[0m\u001b[0;34m)\u001b[0m\u001b[0;34m.\u001b[0m\u001b[0m__repr__\u001b[0m\u001b[0;34m(\u001b[0m\u001b[0;34m)\u001b[0m\u001b[0;34m,\u001b[0m \u001b[0mself\u001b[0m\u001b[0;34m.\u001b[0m\u001b[0mnombre\u001b[0m\u001b[0;34m,\u001b[0m \u001b[0mself\u001b[0m\u001b[0;34m.\u001b[0m\u001b[0mraza\u001b[0m\u001b[0;34m,\u001b[0m \u001b[0mself\u001b[0m\u001b[0;34m.\u001b[0m\u001b[0medad\u001b[0m\u001b[0;34m)\u001b[0m\u001b[0;34m\u001b[0m\u001b[0;34m\u001b[0m\u001b[0m\n\u001b[1;32m     42\u001b[0m \u001b[0;34m\u001b[0m\u001b[0m\n\u001b[0;32m---> 43\u001b[0;31m \u001b[0mgato\u001b[0m \u001b[0;34m=\u001b[0m \u001b[0mGato\u001b[0m\u001b[0;34m(\u001b[0m\u001b[0;34m'Aldara'\u001b[0m\u001b[0;34m)\u001b[0m\u001b[0;34m\u001b[0m\u001b[0;34m\u001b[0m\u001b[0m\n\u001b[0m\u001b[1;32m     44\u001b[0m \u001b[0;34m\u001b[0m\u001b[0m\n\u001b[1;32m     45\u001b[0m \u001b[0mgato\u001b[0m\u001b[0;34m.\u001b[0m\u001b[0mactividad_normal\u001b[0m\u001b[0;34m(\u001b[0m\u001b[0;34m)\u001b[0m\u001b[0;34m\u001b[0m\u001b[0;34m\u001b[0m\u001b[0m\n",
      "\u001b[0;31mTypeError\u001b[0m: Can't instantiate abstract class Gato with abstract methods actividad_normal"
     ]
    }
   ],
   "source": [
    "# Ejemplo 5\n",
    "# Ejemplo de \"implementación\" de una interfaz y clase abstracta\n",
    "from abc import (\n",
    "    ABC,\n",
    "    abstractmethod,\n",
    ")\n",
    "\n",
    "class Animal(ABC):\n",
    "    REINO = 'Animalia'\n",
    "\n",
    "    def __init__(self, nombre_cientifico, orden, familia):\n",
    "        self.nombre_cientifico = nombre_cientifico\n",
    "        self.orden = orden\n",
    "        self.familia = familia\n",
    "\n",
    "    def __repr__(self):\n",
    "        return '{}, animal {} de la familia {}.'.format(self.nombre_cientifico, self.orden, self.familia)\n",
    "    \n",
    "    @classmethod\n",
    "    def tipo(cls):\n",
    "        if cls != Animal:\n",
    "            return 'Es un animal ({}) del reino {}.'.format(cls.__name__.lower(), cls.REINO.lower())\n",
    "        return 'Es un animal del reino {}.'.format(cls.REINO.lower())\n",
    "\n",
    "    def come_carne(self):\n",
    "        return self.orden == 'carnivoro'\n",
    "\n",
    "    @abstractmethod\n",
    "    def actividad_normal(self):\n",
    "        return 'Su actividad diaria no es generica.'\n",
    "\n",
    "class Gato(Animal):\n",
    "\n",
    "    def __init__(self, nombre, edad=0, raza='Común'):\n",
    "        super().__init__('Felis silvestris catus', 'carnivoro', 'Felidae')\n",
    "        self.nombre = nombre\n",
    "        self.edad = edad\n",
    "        self.raza = raza\n",
    "\n",
    "    def __repr__(self):\n",
    "        return '{}\\n{} es un gato {} de {} años.'.format(super().__repr__(), self.nombre, self.raza, self.edad)\n",
    "        \n",
    "gato = Gato('Aldara')\n",
    "\n",
    "gato.actividad_normal()"
   ]
  },
  {
   "cell_type": "code",
   "execution_count": 2,
   "metadata": {},
   "outputs": [
    {
     "data": {
      "text/plain": [
       "'Su actividad diaria no es generica.'"
      ]
     },
     "execution_count": 2,
     "metadata": {},
     "output_type": "execute_result"
    }
   ],
   "source": [
    "# Ejemplo 5\n",
    "# Ejemplo de \"implementación\" de una interfaz y clase abstracta\n",
    "from abc import (\n",
    "    ABC,\n",
    "    abstractmethod,\n",
    ")\n",
    "\n",
    "class Animal(ABC):\n",
    "    REINO = 'Animalia'\n",
    "\n",
    "    def __init__(self, nombre_cientifico, orden, familia):\n",
    "        self.nombre_cientifico = nombre_cientifico\n",
    "        self.orden = orden\n",
    "        self.familia = familia\n",
    "\n",
    "    def __repr__(self):\n",
    "        return '{}, animal {} de la familia {}.'.format(self.nombre_cientifico, self.orden, self.familia)\n",
    "    \n",
    "    @classmethod\n",
    "    def tipo(cls):\n",
    "        if cls != Animal:\n",
    "            return 'Es un animal ({}) del reino {}.'.format(cls.__name__.lower(), cls.REINO.lower())\n",
    "        return 'Es un animal del reino {}.'.format(cls.REINO.lower())\n",
    "\n",
    "    def come_carne(self):\n",
    "        return self.orden == 'carnivoro'\n",
    "\n",
    "    @abstractmethod\n",
    "    def actividad_normal(self):\n",
    "        return 'Su actividad diaria no es generica.'\n",
    "\n",
    "class Gato(Animal):\n",
    "\n",
    "    def __init__(self, nombre, edad=0, raza='Común'):\n",
    "        super().__init__('Felis silvestris catus', 'carnivoro', 'Felidae')\n",
    "        self.nombre = nombre\n",
    "        self.edad = edad\n",
    "        self.raza = raza\n",
    "\n",
    "    def __repr__(self):\n",
    "        return '{}\\n{} es un gato {} de {} años.'.format(super().__repr__(), self.nombre, self.raza, self.edad)\n",
    "    \n",
    "    def actividad_normal(self):\n",
    "        return super().actividad_normal()\n",
    "    \n",
    "gato = Gato('Aldara')\n",
    "\n",
    "gato.actividad_normal()"
   ]
  },
  {
   "cell_type": "code",
   "execution_count": 21,
   "metadata": {},
   "outputs": [
    {
     "data": {
      "text/plain": [
       "'Su actividad diaria no es generica. Pero podemos especializarla en nuestra subclase.'"
      ]
     },
     "execution_count": 21,
     "metadata": {},
     "output_type": "execute_result"
    }
   ],
   "source": [
    "# Ejemplo 5\n",
    "# Ejemplo de \"implementación\" de una interfaz y clase abstracta\n",
    "from abc import (\n",
    "    ABC,\n",
    "    abstractmethod,\n",
    ")\n",
    "\n",
    "class Animal(ABC):\n",
    "    REINO = 'Animalia'\n",
    "\n",
    "    def __init__(self, nombre_cientifico, orden, familia):\n",
    "        self.nombre_cientifico = nombre_cientifico\n",
    "        self.orden = orden\n",
    "        self.familia = familia\n",
    "\n",
    "    def __repr__(self):\n",
    "        return '{}, animal {} de la familia {}.'.format(self.nombre_cientifico, self.orden, self.familia)\n",
    "    \n",
    "    @classmethod\n",
    "    def tipo(cls):\n",
    "        if cls != Animal:\n",
    "            return 'Es un animal ({}) del reino {}.'.format(cls.__name__.lower(), cls.REINO.lower())\n",
    "        return 'Es un animal del reino {}.'.format(cls.REINO.lower())\n",
    "\n",
    "    def come_carne(self):\n",
    "        return self.orden == 'carnivoro'\n",
    "\n",
    "    @abstractmethod\n",
    "    def actividad_normal(self):\n",
    "        return 'Su actividad diaria no es generica.'\n",
    "\n",
    "class Gato(Animal):\n",
    "\n",
    "    def __init__(self, nombre, edad=0, raza='Común'):\n",
    "        super().__init__('Felis silvestris catus', 'carnivoro', 'Felidae')\n",
    "        self.nombre = nombre\n",
    "        self.edad = edad\n",
    "        self.raza = raza\n",
    "\n",
    "    def __repr__(self):\n",
    "        return '{}\\n{} es un gato {} de {} años.'.format(super().__repr__(), self.nombre, self.raza, self.edad)\n",
    "    \n",
    "    def actividad_normal(self):\n",
    "        return '{} Pero podemos especializarla en nuestra subclase.'.format(super().actividad_normal())\n",
    "    \n",
    "gato = Gato('Aldara')\n",
    "\n",
    "gato.actividad_normal()"
   ]
  }
 ],
 "metadata": {
  "kernelspec": {
   "display_name": "Python (python-hands-on)",
   "language": "python",
   "name": "python-hands-on"
  },
  "language_info": {
   "codemirror_mode": {
    "name": "ipython",
    "version": 3
   },
   "file_extension": ".py",
   "mimetype": "text/x-python",
   "name": "python",
   "nbconvert_exporter": "python",
   "pygments_lexer": "ipython3",
   "version": "3.8.2"
  }
 },
 "nbformat": 4,
 "nbformat_minor": 4
}
