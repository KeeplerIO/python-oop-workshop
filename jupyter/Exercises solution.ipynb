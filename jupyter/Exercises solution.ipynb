{
 "cells": [
  {
   "cell_type": "markdown",
   "metadata": {},
   "source": [
    "# Ejercicios guiados\n",
    "\n",
    "Se propone una serie de ejercicios guiados para asentar las bases de lo que se ha visto anteriormente.\n",
    "\n",
    "## Ejercicio 1\n",
    "Para el primer ejercicio queremos continuar implementando funcionalidad en nuestro gato. Por ello, vamos a implementar un método en la clase gato que haga que cualquier gato pueda realizar una acción cualquiera sobre una serie de elementos."
   ]
  },
  {
   "cell_type": "code",
   "execution_count": null,
   "metadata": {},
   "outputs": [],
   "source": [
    "from abc import (\n",
    "    ABC,\n",
    "    abstractmethod,\n",
    ")\n",
    "\n",
    "class GatoGenerico(ABC):\n",
    "    @abstractmethod\n",
    "    def hace(self, accion, cosas):\n",
    "        pass"
   ]
  },
  {
   "cell_type": "code",
   "execution_count": null,
   "metadata": {},
   "outputs": [],
   "source": [
    "class MiGato(GatoGenerico):\n",
    "    def __init__(self, cosas):\n",
    "        self.cosas = cosas\n",
    "\n",
    "    def hace(self, accion, cosas=None):\n",
    "        cosas = cosas if cosas else self.cosas\n",
    "        if type(cosas) is not list:\n",
    "            raise Exception\n",
    "        \n",
    "        for cosa in cosas:\n",
    "            yield accion(cosa)\n",
    "\n",
    "\n",
    "mi_gato = MiGato(['cuerda', 'raton'])\n",
    "display(list(mi_gato.hace(lambda x: 'Estoy jugando con {}'.format(x))))\n",
    "display(list(mi_gato.hace(lambda x: 'Me he comido {}'.format(x), ['pienso', 'lata'])))"
   ]
  },
  {
   "cell_type": "markdown",
   "metadata": {},
   "source": [
    "## Ejercicio 2\n",
    "En este ejercicio queremos implementar una función que filtre una lista de objetos persona en función de si es *conectable* y su grado de similaritud."
   ]
  },
  {
   "cell_type": "code",
   "execution_count": 1,
   "metadata": {},
   "outputs": [
    {
     "data": {
      "text/plain": [
       "[Sara es una persona de tipo 0 y con una similaritud de 3,\n",
       " Roberto es una persona de tipo 1 y con una similaritud de 7,\n",
       " Laura es una persona de tipo 2,\n",
       " Carlos es una persona de tipo 0 y con una similaritud de 7,\n",
       " Clara es una persona de tipo 1,\n",
       " Eloy es una persona de tipo 2,\n",
       " Irene es una persona de tipo 0,\n",
       " Alfredo es una persona de tipo 1,\n",
       " Paula es una persona de tipo 2]"
      ]
     },
     "metadata": {},
     "output_type": "display_data"
    }
   ],
   "source": [
    "# Ejercicio 2\n",
    "from random import randint \n",
    "class Persona:\n",
    "    def __init__(self, nombre, tipo, conecta=False, similaritud=0):\n",
    "        self.nombre = nombre\n",
    "        self.tipo = tipo\n",
    "        self.conecta = conecta\n",
    "        self.similaritud = similaritud\n",
    "    \n",
    "    def __repr__(self):\n",
    "        similaritud = ' y con una similaritud de {}'.format(self.similaritud) if self.conecta else ''\n",
    "        return '{} es una persona de tipo {}{}'.format(self.nombre, self.tipo, similaritud)\n",
    "\n",
    "    \n",
    "elementos = [Persona(\n",
    "    p,\n",
    "    i%3,\n",
    "    True if randint(0, 100) < 30 else False,\n",
    "    randint(0, 10)\n",
    ") for i, p in enumerate(('Sara', 'Roberto', 'Laura', 'Carlos', 'Clara', 'Eloy', 'Irene', 'Alfredo', 'Paula'))]\n",
    "display(elementos)"
   ]
  },
  {
   "cell_type": "code",
   "execution_count": 2,
   "metadata": {},
   "outputs": [
    {
     "data": {
      "text/plain": [
       "[Sara es una persona de tipo 0 y con una similaritud de 3,\n",
       " Roberto es una persona de tipo 1 y con una similaritud de 7,\n",
       " Carlos es una persona de tipo 0 y con una similaritud de 7]"
      ]
     },
     "metadata": {},
     "output_type": "display_data"
    }
   ],
   "source": [
    "display(list(filter(lambda x: x.conecta, elementos)))"
   ]
  },
  {
   "cell_type": "code",
   "execution_count": 3,
   "metadata": {},
   "outputs": [
    {
     "data": {
      "text/plain": [
       "[Roberto es una persona de tipo 1 y con una similaritud de 7,\n",
       " Carlos es una persona de tipo 0 y con una similaritud de 7]"
      ]
     },
     "metadata": {},
     "output_type": "display_data"
    }
   ],
   "source": [
    "display(list(filter(lambda x: x.conecta and x.similaritud > 5, elementos)))"
   ]
  },
  {
   "cell_type": "code",
   "execution_count": 5,
   "metadata": {},
   "outputs": [
    {
     "data": {
      "text/plain": [
       "[Roberto es una persona de tipo 1 y con una similaritud de 7,\n",
       " Carlos es una persona de tipo 0 y con una similaritud de 7]"
      ]
     },
     "metadata": {},
     "output_type": "display_data"
    }
   ],
   "source": [
    "def funcion_filtrado(persona, f_interes, f_nombre):\n",
    "    if persona.nombre.lower().startswith(f_nombre.lower()):\n",
    "        return persona.similaritud > f_interes\n",
    "    return persona.conecta\n",
    "\n",
    "elementos[0].interes = 7\n",
    "\n",
    "avg = lambda l: sum(l) / len(l)\n",
    "lista_similaritud = [p.similaritud for p in elementos]\n",
    "display(list(filter(lambda x: funcion_filtrado(x, avg(lista_similaritud), 's'), elementos)))"
   ]
  },
  {
   "cell_type": "markdown",
   "metadata": {},
   "source": [
    "## Ejercicio 3\n",
    "Siguiendo con el espíritu del ejercicio anterior, en este ejercicio vamos a implementar una función de ordenación basada en objetos."
   ]
  },
  {
   "cell_type": "code",
   "execution_count": 8,
   "metadata": {},
   "outputs": [
    {
     "data": {
      "text/plain": [
       "[Sara es una persona de tipo 0 y con una similaritud de 5,\n",
       " Roberto es una persona de tipo 1 y con una similaritud de 3,\n",
       " Laura es una persona de tipo 2 y con una similaritud de 0,\n",
       " Carlos es una persona de tipo 0 y con una similaritud de 1,\n",
       " Clara es una persona de tipo 1 y con una similaritud de 2,\n",
       " Eloy es una persona de tipo 2 y con una similaritud de 5,\n",
       " Irene es una persona de tipo 0 y con una similaritud de 8,\n",
       " Alfredo es una persona de tipo 1 y con una similaritud de 7,\n",
       " Paula es una persona de tipo 2 y con una similaritud de 0]"
      ]
     },
     "metadata": {},
     "output_type": "display_data"
    }
   ],
   "source": [
    "# Ejercicio 3\n",
    "from random import randint \n",
    "class Persona:\n",
    "    def __init__(self, nombre, tipo, conecta=False, similaritud=0):\n",
    "        self.nombre = nombre\n",
    "        self.tipo = tipo\n",
    "        self.similaritud = similaritud\n",
    "    \n",
    "    def __repr__(self):\n",
    "        return '{} es una persona de tipo {} y con una similaritud de {}'.format(self.nombre, self.tipo, self.similaritud)\n",
    "\n",
    "    \n",
    "elementos = [Persona(\n",
    "    p,\n",
    "    i%3,\n",
    "    True if randint(0, 100) < 30 else False,\n",
    "    randint(0, 10)\n",
    ") for i, p in enumerate(('Sara', 'Roberto', 'Laura', 'Carlos', 'Clara', 'Eloy', 'Irene', 'Alfredo', 'Paula'))]\n",
    "display(elementos)"
   ]
  },
  {
   "cell_type": "code",
   "execution_count": 11,
   "metadata": {},
   "outputs": [
    {
     "data": {
      "text/plain": [
       "[Carlos es una persona de tipo 0 y con una similaritud de 1,\n",
       " Irene es una persona de tipo 0 y con una similaritud de 8,\n",
       " Sara es una persona de tipo 0 y con una similaritud de 5,\n",
       " Alfredo es una persona de tipo 1 y con una similaritud de 7,\n",
       " Clara es una persona de tipo 1 y con una similaritud de 2,\n",
       " Roberto es una persona de tipo 1 y con una similaritud de 3,\n",
       " Eloy es una persona de tipo 2 y con una similaritud de 5,\n",
       " Laura es una persona de tipo 2 y con una similaritud de 0,\n",
       " Paula es una persona de tipo 2 y con una similaritud de 0]"
      ]
     },
     "execution_count": 11,
     "metadata": {},
     "output_type": "execute_result"
    }
   ],
   "source": [
    "elementos.sort(key=lambda elemento: elemento.tipo)\n",
    "elementos"
   ]
  },
  {
   "cell_type": "code",
   "execution_count": 12,
   "metadata": {},
   "outputs": [
    {
     "data": {
      "text/plain": [
       "[Carlos es una persona de tipo 0 y con una similaritud de 1,\n",
       " Irene es una persona de tipo 0 y con una similaritud de 8,\n",
       " Sara es una persona de tipo 0 y con una similaritud de 5,\n",
       " Alfredo es una persona de tipo 1 y con una similaritud de 7,\n",
       " Clara es una persona de tipo 1 y con una similaritud de 2,\n",
       " Roberto es una persona de tipo 1 y con una similaritud de 3,\n",
       " Eloy es una persona de tipo 2 y con una similaritud de 5,\n",
       " Laura es una persona de tipo 2 y con una similaritud de 0,\n",
       " Paula es una persona de tipo 2 y con una similaritud de 0]"
      ]
     },
     "execution_count": 12,
     "metadata": {},
     "output_type": "execute_result"
    }
   ],
   "source": [
    "def funcion_ordenacion(elemento):\n",
    "    primero = elemento.tipo\n",
    "    segundo = elemento.nombre[:2]\n",
    "    return (primero, segundo)\n",
    "\n",
    "elementos.sort(key=funcion_ordenacion)\n",
    "elementos"
   ]
  },
  {
   "cell_type": "code",
   "execution_count": 14,
   "metadata": {},
   "outputs": [
    {
     "data": {
      "text/plain": [
       "[Carlos es una persona de tipo 0 y con una similaritud de 1,\n",
       " Sara es una persona de tipo 0 y con una similaritud de 5,\n",
       " Irene es una persona de tipo 0 y con una similaritud de 8,\n",
       " Clara es una persona de tipo 1 y con una similaritud de 2,\n",
       " Roberto es una persona de tipo 1 y con una similaritud de 3,\n",
       " Alfredo es una persona de tipo 1 y con una similaritud de 7,\n",
       " Laura es una persona de tipo 2 y con una similaritud de 0,\n",
       " Paula es una persona de tipo 2 y con una similaritud de 0,\n",
       " Eloy es una persona de tipo 2 y con una similaritud de 5]"
      ]
     },
     "execution_count": 14,
     "metadata": {},
     "output_type": "execute_result"
    }
   ],
   "source": [
    "def funcion_ordenacion(elemento):\n",
    "    return (\n",
    "        elemento.tipo,\n",
    "        elemento.similaritud,\n",
    "        elemento.nombre[:2]\n",
    "    )\n",
    "\n",
    "elementos.sort(key=funcion_ordenacion)\n",
    "elementos"
   ]
  },
  {
   "cell_type": "code",
   "execution_count": 15,
   "metadata": {},
   "outputs": [
    {
     "data": {
      "text/plain": [
       "[Eloy es una persona de tipo 2 y con una similaritud de 5,\n",
       " Paula es una persona de tipo 2 y con una similaritud de 0,\n",
       " Laura es una persona de tipo 2 y con una similaritud de 0,\n",
       " Alfredo es una persona de tipo 1 y con una similaritud de 7,\n",
       " Roberto es una persona de tipo 1 y con una similaritud de 3,\n",
       " Clara es una persona de tipo 1 y con una similaritud de 2,\n",
       " Irene es una persona de tipo 0 y con una similaritud de 8,\n",
       " Sara es una persona de tipo 0 y con una similaritud de 5,\n",
       " Carlos es una persona de tipo 0 y con una similaritud de 1]"
      ]
     },
     "execution_count": 15,
     "metadata": {},
     "output_type": "execute_result"
    }
   ],
   "source": [
    "# Descendente\n",
    "def funcion_ordenacion(elemento):\n",
    "    return (\n",
    "        elemento.tipo,\n",
    "        elemento.similaritud,\n",
    "        elemento.nombre[:2]\n",
    "    )\n",
    "\n",
    "elementos.sort(key=funcion_ordenacion, reverse=True)\n",
    "elementos"
   ]
  },
  {
   "cell_type": "code",
   "execution_count": 16,
   "metadata": {},
   "outputs": [
    {
     "data": {
      "text/plain": [
       "[Irene es una persona de tipo 0 y con una similaritud de 8,\n",
       " Sara es una persona de tipo 0 y con una similaritud de 5,\n",
       " Carlos es una persona de tipo 0 y con una similaritud de 1,\n",
       " Alfredo es una persona de tipo 1 y con una similaritud de 7,\n",
       " Roberto es una persona de tipo 1 y con una similaritud de 3,\n",
       " Clara es una persona de tipo 1 y con una similaritud de 2,\n",
       " Eloy es una persona de tipo 2 y con una similaritud de 5,\n",
       " Laura es una persona de tipo 2 y con una similaritud de 0,\n",
       " Paula es una persona de tipo 2 y con una similaritud de 0]"
      ]
     },
     "execution_count": 16,
     "metadata": {},
     "output_type": "execute_result"
    }
   ],
   "source": [
    "# Descendente solo por similaritud\n",
    "def funcion_ordenacion(elemento):\n",
    "    return (\n",
    "        elemento.tipo,\n",
    "        elemento.similaritud * -1,\n",
    "        elemento.nombre[:2]\n",
    "    )\n",
    "\n",
    "elementos.sort(key=funcion_ordenacion)\n",
    "elementos"
   ]
  },
  {
   "cell_type": "markdown",
   "metadata": {},
   "source": [
    "# Ejercicio 4\n",
    "En este ejercicio vamos a implementar nuestro propio iterador. El patrón de iterador es un patrón de comportamiento fundamental en la implementación de Python. Permite definir una interfaz de comportamiento para interactuar con tipos de dato que definen colecciones de elementos. De esta manera se puede operar sobre un tipo de dato *iterable* sin necesidad de conocer cómo es internamente, potenciando la abstracción de nuestros procesos. En el caso de Python, este patrón de diseño está implementado en el core del lenguaje y es fundamental para el tratamiento de estructuras de datos y la aplicación de muchas de las función vistas en el modulo anterior (como `filter` o `map`).\n",
    "\n",
    "Implementar este patrón de diseño en Python requiere que creemos una clase que implemente, al menos, las funciones `__iter__` y `__next__`. Para controlar el momento en el que dejará de iterar python nos proporciona la excepción `StopIteration`. Cuando nuestra clase lance esta excepción, Python la capturará y detendrá la iteración de manera controlada."
   ]
  },
  {
   "cell_type": "code",
   "execution_count": 24,
   "metadata": {},
   "outputs": [],
   "source": [
    "class RangePropio:\n",
    "    def __init__(self, maximo):\n",
    "        self.paso = 0\n",
    "        self.maximo = maximo\n",
    "\n",
    "    def __iter__(self):\n",
    "        return self\n",
    "\n",
    "    def __next__(self):\n",
    "        if self.paso < self.maximo:\n",
    "            paso = self.paso\n",
    "            self.paso += 1\n",
    "            return paso\n",
    "        else:\n",
    "            raise StopIteration()\n",
    "\n",
    "iterador = RangePropio(2)\n",
    "\n",
    "display(iterador)\n",
    "display(next(iterador))\n",
    "display(next(iterador))\n",
    "#display(next(iterador))\n",
    "\n",
    "display([i for i in RangePropio(10)])"
   ]
  },
  {
   "cell_type": "code",
   "execution_count": 22,
   "metadata": {},
   "outputs": [
    {
     "data": {
      "text/plain": [
       "<__main__.RangePropio at 0x10948afa0>"
      ]
     },
     "metadata": {},
     "output_type": "display_data"
    },
    {
     "ename": "StopIteration",
     "evalue": "",
     "output_type": "error",
     "traceback": [
      "\u001b[0;31m---------------------------------------------------------------------------\u001b[0m",
      "\u001b[0;31mStopIteration\u001b[0m                             Traceback (most recent call last)",
      "\u001b[0;32m<ipython-input-22-bd9eff93573f>\u001b[0m in \u001b[0;36m<module>\u001b[0;34m\u001b[0m\n\u001b[1;32m      1\u001b[0m \u001b[0mnuevo_iterador\u001b[0m \u001b[0;34m=\u001b[0m \u001b[0miter\u001b[0m\u001b[0;34m(\u001b[0m\u001b[0miterador\u001b[0m\u001b[0;34m)\u001b[0m\u001b[0;34m\u001b[0m\u001b[0;34m\u001b[0m\u001b[0m\n\u001b[1;32m      2\u001b[0m \u001b[0mdisplay\u001b[0m\u001b[0;34m(\u001b[0m\u001b[0miterador\u001b[0m\u001b[0;34m)\u001b[0m\u001b[0;34m\u001b[0m\u001b[0;34m\u001b[0m\u001b[0m\n\u001b[0;32m----> 3\u001b[0;31m \u001b[0mdisplay\u001b[0m\u001b[0;34m(\u001b[0m\u001b[0mnext\u001b[0m\u001b[0;34m(\u001b[0m\u001b[0miterador\u001b[0m\u001b[0;34m)\u001b[0m\u001b[0;34m)\u001b[0m\u001b[0;34m\u001b[0m\u001b[0;34m\u001b[0m\u001b[0m\n\u001b[0m\u001b[1;32m      4\u001b[0m \u001b[0mdisplay\u001b[0m\u001b[0;34m(\u001b[0m\u001b[0mnext\u001b[0m\u001b[0;34m(\u001b[0m\u001b[0miterador\u001b[0m\u001b[0;34m)\u001b[0m\u001b[0;34m)\u001b[0m\u001b[0;34m\u001b[0m\u001b[0;34m\u001b[0m\u001b[0m\n",
      "\u001b[0;32m<ipython-input-21-bf7233e662fc>\u001b[0m in \u001b[0;36m__next__\u001b[0;34m(self)\u001b[0m\n\u001b[1;32m     13\u001b[0m             \u001b[0;32mreturn\u001b[0m \u001b[0mpaso\u001b[0m\u001b[0;34m\u001b[0m\u001b[0;34m\u001b[0m\u001b[0m\n\u001b[1;32m     14\u001b[0m         \u001b[0;32melse\u001b[0m\u001b[0;34m:\u001b[0m\u001b[0;34m\u001b[0m\u001b[0;34m\u001b[0m\u001b[0m\n\u001b[0;32m---> 15\u001b[0;31m             \u001b[0;32mraise\u001b[0m \u001b[0mStopIteration\u001b[0m\u001b[0;34m(\u001b[0m\u001b[0;34m)\u001b[0m\u001b[0;34m\u001b[0m\u001b[0;34m\u001b[0m\u001b[0m\n\u001b[0m\u001b[1;32m     16\u001b[0m \u001b[0;34m\u001b[0m\u001b[0m\n\u001b[1;32m     17\u001b[0m \u001b[0miterador\u001b[0m \u001b[0;34m=\u001b[0m \u001b[0mRangePropio\u001b[0m\u001b[0;34m(\u001b[0m\u001b[0;36m2\u001b[0m\u001b[0;34m)\u001b[0m\u001b[0;34m\u001b[0m\u001b[0;34m\u001b[0m\u001b[0m\n",
      "\u001b[0;31mStopIteration\u001b[0m: "
     ]
    }
   ],
   "source": [
    "nuevo_iterador = iter(iterador)\n",
    "display(iterador)\n",
    "display(next(iterador))\n",
    "display(next(iterador))\n"
   ]
  },
  {
   "cell_type": "code",
   "execution_count": 27,
   "metadata": {},
   "outputs": [
    {
     "data": {
      "text/plain": [
       "<__main__.RangePropioBis at 0x10947a7f0>"
      ]
     },
     "metadata": {},
     "output_type": "display_data"
    },
    {
     "data": {
      "text/plain": [
       "0"
      ]
     },
     "metadata": {},
     "output_type": "display_data"
    },
    {
     "data": {
      "text/plain": [
       "1"
      ]
     },
     "metadata": {},
     "output_type": "display_data"
    },
    {
     "data": {
      "text/plain": [
       "[0, 1, 2, 3, 4, 5, 6, 7, 8, 9]"
      ]
     },
     "metadata": {},
     "output_type": "display_data"
    },
    {
     "data": {
      "text/plain": [
       "<__main__.RangePropioBis at 0x10947a7f0>"
      ]
     },
     "metadata": {},
     "output_type": "display_data"
    },
    {
     "data": {
      "text/plain": [
       "0"
      ]
     },
     "metadata": {},
     "output_type": "display_data"
    },
    {
     "data": {
      "text/plain": [
       "1"
      ]
     },
     "metadata": {},
     "output_type": "display_data"
    }
   ],
   "source": [
    "class RangePropioBis:\n",
    "    def __init__(self, maximo):\n",
    "        self.paso = 0\n",
    "        self.maximo = maximo\n",
    "\n",
    "    def __iter__(self):\n",
    "        self.paso = 0\n",
    "        return self\n",
    "\n",
    "    def __next__(self):\n",
    "        if self.paso < self.maximo:\n",
    "            paso = self.paso\n",
    "            self.paso += 1\n",
    "            return paso\n",
    "        else:\n",
    "            raise StopIteration()\n",
    "\n",
    "iterador = RangePropioBis(2)\n",
    "\n",
    "display(iterador)\n",
    "display(next(iterador))\n",
    "display(next(iterador))\n",
    "#display(next(iterador))\n",
    "\n",
    "display([i for i in RangePropioBis(10)])\n",
    "\n",
    "nuevo_iterador = iter(iterador)\n",
    "display(iterador)\n",
    "display(next(iterador))\n",
    "display(next(iterador))"
   ]
  },
  {
   "cell_type": "code",
   "execution_count": 35,
   "metadata": {},
   "outputs": [
    {
     "data": {
      "text/plain": [
       "[0, 1]"
      ]
     },
     "metadata": {},
     "output_type": "display_data"
    },
    {
     "data": {
      "text/plain": [
       "[0, 1]"
      ]
     },
     "metadata": {},
     "output_type": "display_data"
    },
    {
     "name": "stdout",
     "output_type": "stream",
     "text": [
      "\n"
     ]
    },
    {
     "data": {
      "text/plain": [
       "[0, 1]"
      ]
     },
     "metadata": {},
     "output_type": "display_data"
    },
    {
     "data": {
      "text/plain": [
       "[]"
      ]
     },
     "metadata": {},
     "output_type": "display_data"
    }
   ],
   "source": [
    "iterador = RangePropioBis(2)\n",
    "\n",
    "display([i for i in iterador])\n",
    "display([i for i in iterador])\n",
    "print()\n",
    "\n",
    "iterador = RangePropio(2)\n",
    "\n",
    "display([i for i in iterador])\n",
    "display([i for i in iterador])"
   ]
  },
  {
   "cell_type": "code",
   "execution_count": 37,
   "metadata": {},
   "outputs": [
    {
     "data": {
      "text/plain": [
       "[0, 1, 2, 3, 4, 5, 6, 7, 8, 9]"
      ]
     },
     "metadata": {},
     "output_type": "display_data"
    },
    {
     "data": {
      "text/plain": [
       "[]"
      ]
     },
     "metadata": {},
     "output_type": "display_data"
    }
   ],
   "source": [
    "def range_propio(maximo):\n",
    "    numero = 0\n",
    "    while numero < maximo:\n",
    "        yield numero\n",
    "        numero += 1\n",
    "\n",
    "display([i for i in range_propio(10)])"
   ]
  }
 ],
 "metadata": {
  "kernelspec": {
   "display_name": "Python (python-hands-on)",
   "language": "python",
   "name": "python-hands-on"
  },
  "language_info": {
   "codemirror_mode": {
    "name": "ipython",
    "version": 3
   },
   "file_extension": ".py",
   "mimetype": "text/x-python",
   "name": "python",
   "nbconvert_exporter": "python",
   "pygments_lexer": "ipython3",
   "version": "3.8.2"
  }
 },
 "nbformat": 4,
 "nbformat_minor": 4
}
